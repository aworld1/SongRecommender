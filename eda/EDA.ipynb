{
 "cells": [
  {
   "cell_type": "code",
   "execution_count": 183,
   "id": "4a25a71c",
   "metadata": {},
   "outputs": [],
   "source": [
    "import pandas as pd\n",
    "import os\n",
    "import json\n",
    "import re\n",
    "from tqdm import tqdm\n",
    "import logging\n",
    "from pprint import PrettyPrinter\n",
    "from collections import defaultdict\n",
    "from matplotlib import pyplot as plt\n",
    "import numpy as np\n",
    "import seaborn as sns"
   ]
  },
  {
   "cell_type": "markdown",
   "id": "76a569a6",
   "metadata": {},
   "source": [
    "## Steps to reproduction\n",
    "1. Download all 5 GB of data, or clone the repository at https://github.com/gilpasternak35/SongRecommender.git\n",
    "\n",
    "\n",
    "2. **If Downloaded**:\\\n",
    "    a. keep only first 50,000 playlists  \n",
    "    b. Place these in a directory called data, one step below current root\n",
    "    \n",
    "    \n",
    "3. Run this notebook from repository root"
   ]
  },
  {
   "cell_type": "markdown",
   "id": "1ab1aa7d",
   "metadata": {},
   "source": [
    "# Preprocessing and Data Structure Creation"
   ]
  },
  {
   "cell_type": "code",
   "execution_count": 184,
   "id": "75293bbb",
   "metadata": {},
   "outputs": [],
   "source": [
    "# Listing directory\n",
    "files = os.listdir(\"./data\")\n",
    "\n",
    "# Regular expression for desired filenames\n",
    "desired_filename = re.compile(\"mpd.*\")\n",
    "\n",
    "# Pretty printer instantiation\n",
    "pp = PrettyPrinter(width=25)"
   ]
  },
  {
   "cell_type": "code",
   "execution_count": 185,
   "id": "fdeb3c3b",
   "metadata": {},
   "outputs": [],
   "source": [
    "def dataloader_pipeline(file_list: list) -> list:\n",
    "    \"\"\"\n",
    "    Pipeline for loading in data\n",
    "    \n",
    "    @param file_list: A list of files to load in\n",
    "    @returns data: A list of playlists from these files\n",
    "    \"\"\"\n",
    "    # Resulting data (hopefully to be stored in list)\n",
    "    data = []\n",
    "    \n",
    "    # Traversing through available datafiles\n",
    "    print(\"Starting Dataloading...\")\n",
    "    for file in tqdm(file_list):\n",
    "        \n",
    "        # Ensuring filename valid\n",
    "        if desired_filename.match(file):\n",
    "            \n",
    "            # Opening and preprocessing\n",
    "            with open(\"./data/\" + file, 'r') as file_reader:\n",
    "                data += json.load(file_reader)[\"playlists\"]\n",
    "    \n",
    "    print(\"Finished Dataloading...\")\n",
    "   \n",
    "    return data"
   ]
  },
  {
   "cell_type": "code",
   "execution_count": 186,
   "id": "20c2b657",
   "metadata": {},
   "outputs": [],
   "source": [
    "def build_relevant_ds(data: list) -> (list, dict, dict, dict):\n",
    "    \"\"\"\n",
    "    Preprocesses data, simultaneously building relevant data structures\n",
    "    \n",
    "    @param data - a data list of playlist dictionaries to preprocess\n",
    "    @returns a list of tracks per user, users per track, watered down data list\n",
    "    \"\"\"\n",
    "    \n",
    "    def process_uri(uri:str):\n",
    "        \"\"\"URI Processing method\"\"\"\n",
    "        return uri.split(\":\")[2]\n",
    "        \n",
    "    \n",
    "    print(\"Preprocessing started...\")\n",
    "    tracks_per_user, users_per_track, users_per_artist  = defaultdict(list), defaultdict(list), defaultdict(list)\n",
    "    \n",
    "    # Traversing through data and preprocessing\n",
    "    for playlist in data:       \n",
    "        user = playlist['pid']\n",
    "        for track in playlist['tracks']:\n",
    "            # obtaining necessary data\n",
    "            track, artist, album = track['track_name'], track['artist_name'], track['album_name']\n",
    "            \n",
    "            # Appending data to data structures\n",
    "            tracks_per_user[user].append(track)\n",
    "            users_per_track[track].append(user)\n",
    "            users_per_artist[artist].append(user)\n",
    "            \n",
    "    return tracks_per_user, users_per_track, users_per_artist\n",
    "            "
   ]
  },
  {
   "cell_type": "code",
   "execution_count": 187,
   "id": "1c7d2d4c",
   "metadata": {},
   "outputs": [
    {
     "name": "stdout",
     "output_type": "stream",
     "text": [
      "Starting Dataloading...\n"
     ]
    },
    {
     "name": "stderr",
     "output_type": "stream",
     "text": [
      "100%|███████████████████████████████████████████| 50/50 [00:06<00:00,  8.10it/s]"
     ]
    },
    {
     "name": "stdout",
     "output_type": "stream",
     "text": [
      "Finished Dataloading...\n"
     ]
    },
    {
     "name": "stderr",
     "output_type": "stream",
     "text": [
      "\n"
     ]
    }
   ],
   "source": [
    "# Loading in data\n",
    "data = dataloader_pipeline(files)"
   ]
  },
  {
   "cell_type": "markdown",
   "id": "358e2558",
   "metadata": {},
   "source": [
    "## Our Data:"
   ]
  },
  {
   "cell_type": "code",
   "execution_count": 188,
   "id": "b73168bb",
   "metadata": {
    "scrolled": true
   },
   "outputs": [
    {
     "name": "stdout",
     "output_type": "stream",
     "text": [
      "{'collaborative': 'false',\n",
      " 'duration_ms': 4031475,\n",
      " 'modified_at': 1506902400,\n",
      " 'name': 'chilllll',\n",
      " 'num_albums': 15,\n",
      " 'num_artists': 10,\n",
      " 'num_edits': 8,\n",
      " 'num_followers': 1,\n",
      " 'num_tracks': 18,\n",
      " 'pid': 7001,\n",
      " 'tracks': [{'album_name': 'A '\n",
      "                           'Book '\n",
      "                           'Like '\n",
      "                           'This',\n",
      "             'album_uri': 'spotify:album:0F7YdpujZTc3Zjh9HcpKmu',\n",
      "             'artist_name': 'Angus '\n",
      "                            '& '\n",
      "                            'Julia '\n",
      "                            'Stone',\n",
      "             'artist_uri': 'spotify:artist:4tvKz56Tr39bkhcQUTO0Xr',\n",
      "             'duration_ms': 220026,\n",
      "             'pos': 0,\n",
      "             'track_name': 'Paper '\n",
      "                           'Aeroplane',\n",
      "             'track_uri': 'spotify:track:4YWLgOjSe1vJg2NRRVkXJR'},\n",
      "            {'album_name': 'Majestic '\n",
      "                           'Casual '\n",
      "                           '- '\n",
      "                           'Chapter '\n",
      "                           '3',\n",
      "             'album_uri': 'spotify:album:526pVoHzV4Of7di1A1veCl',\n",
      "             'artist_name': 'Mothica',\n",
      "             'artist_uri': 'spotify:artist:1JhiIIXT9DWqEU3BYFZwGA',\n",
      "             'duration_ms': 212307,\n",
      "             'pos': 1,\n",
      "             'track_name': 'No '\n",
      "                           'One '\n",
      "                           '- '\n",
      "                           'Kayge '\n",
      "                           'Calypso '\n",
      "                           '& '\n",
      "                           'DUNN '\n",
      "                           'Remix',\n",
      "             'track_uri': 'spotify:track:28axGcu9he7YdQ0xwXIaC9'},\n",
      "            {'album_name': 'xx',\n",
      "             'album_uri': 'spotify:album:2nXJkqkS1tIKIyhBcFMmwz',\n",
      "             'artist_name': 'The '\n",
      "                            'xx',\n",
      "             'artist_uri': 'spotify:artist:3iOvXCl6edW5Um0fXEBRXy',\n",
      "             'duration_ms': 160720,\n",
      "             'pos': 2,\n",
      "             'track_name': 'Islands',\n",
      "             'track_uri': 'spotify:track:2SMn57cBVxoD4TArscpovk'},\n",
      "            {'album_name': 'Jamie '\n",
      "                           'xx '\n",
      "                           'Edits',\n",
      "             'album_uri': 'spotify:album:33UOrxCqUHQDH3XvNEYWoP',\n",
      "             'artist_name': 'The '\n",
      "                            'xx',\n",
      "             'artist_uri': 'spotify:artist:3iOvXCl6edW5Um0fXEBRXy',\n",
      "             'duration_ms': 377623,\n",
      "             'pos': 3,\n",
      "             'track_name': 'Sunset '\n",
      "                           '(Jamie '\n",
      "                           'xx '\n",
      "                           'Edit)',\n",
      "             'track_uri': 'spotify:track:35f7uhFVudhFHAxkW5s04Y'},\n",
      "            {'album_name': 'xx',\n",
      "             'album_uri': 'spotify:album:2nXJkqkS1tIKIyhBcFMmwz',\n",
      "             'artist_name': 'The '\n",
      "                            'xx',\n",
      "             'artist_uri': 'spotify:artist:3iOvXCl6edW5Um0fXEBRXy',\n",
      "             'duration_ms': 127920,\n",
      "             'pos': 4,\n",
      "             'track_name': 'Intro',\n",
      "             'track_uri': 'spotify:track:0bXpmJyHHYPk6QBFj25bYF'},\n",
      "            {'album_name': 'Coexist',\n",
      "             'album_uri': 'spotify:album:7zNbatyo73uEnOlTDSVJed',\n",
      "             'artist_name': 'The '\n",
      "                            'xx',\n",
      "             'artist_uri': 'spotify:artist:3iOvXCl6edW5Um0fXEBRXy',\n",
      "             'duration_ms': 171653,\n",
      "             'pos': 5,\n",
      "             'track_name': 'Angels',\n",
      "             'track_uri': 'spotify:track:4g5QKYTjNoAN8w5LmNbkwo'},\n",
      "            {'album_name': 'xx',\n",
      "             'album_uri': 'spotify:album:2nXJkqkS1tIKIyhBcFMmwz',\n",
      "             'artist_name': 'The '\n",
      "                            'xx',\n",
      "             'artist_uri': 'spotify:artist:3iOvXCl6edW5Um0fXEBRXy',\n",
      "             'duration_ms': 177093,\n",
      "             'pos': 6,\n",
      "             'track_name': 'VCR',\n",
      "             'track_uri': 'spotify:track:6DXFVsLcEvOTSrkG9G1Cb1'},\n",
      "            {'album_name': 'xx',\n",
      "             'album_uri': 'spotify:album:2nXJkqkS1tIKIyhBcFMmwz',\n",
      "             'artist_name': 'The '\n",
      "                            'xx',\n",
      "             'artist_uri': 'spotify:artist:3iOvXCl6edW5Um0fXEBRXy',\n",
      "             'duration_ms': 201946,\n",
      "             'pos': 7,\n",
      "             'track_name': 'Crystalised',\n",
      "             'track_uri': 'spotify:track:6rxEjkoar48SssZePbtb2x'},\n",
      "            {'album_name': \"You're \"\n",
      "                           'Mine',\n",
      "             'album_uri': 'spotify:album:32vhrOjbyNNvEkkHgSKHjf',\n",
      "             'artist_name': 'Raving '\n",
      "                            'George',\n",
      "             'artist_uri': 'spotify:artist:2mn602IBi2DIgqVl2vnam6',\n",
      "             'duration_ms': 241693,\n",
      "             'pos': 8,\n",
      "             'track_name': \"You're \"\n",
      "                           'Mine '\n",
      "                           '- '\n",
      "                           'Radio '\n",
      "                           'edit',\n",
      "             'track_uri': 'spotify:track:4o44OVFWQsbyWX2kgm6nqJ'},\n",
      "            {'album_name': 'Flume',\n",
      "             'album_uri': 'spotify:album:0cQ4rRAcQ8q5jh1cCjOET1',\n",
      "             'artist_name': 'Flume',\n",
      "             'artist_uri': 'spotify:artist:6nxWCVXbOlEVRexSbLsTer',\n",
      "             'duration_ms': 209376,\n",
      "             'pos': 9,\n",
      "             'track_name': 'Sleepless',\n",
      "             'track_uri': 'spotify:track:458gevlvVGu3MHNwiXmh3f'},\n",
      "            {'album_name': 'Settle '\n",
      "                           '(The '\n",
      "                           'Remixes)',\n",
      "             'album_uri': 'spotify:album:0QFMqnSP2kBMTrbfNkj3SB',\n",
      "             'artist_name': 'Disclosure',\n",
      "             'artist_uri': 'spotify:artist:6nS5roXSAGhTGr34W6n7Et',\n",
      "             'duration_ms': 282812,\n",
      "             'pos': 10,\n",
      "             'track_name': 'You '\n",
      "                           '& '\n",
      "                           'Me '\n",
      "                           '- '\n",
      "                           'Flume '\n",
      "                           'Remix',\n",
      "             'track_uri': 'spotify:track:1snNAXmmPXCn0dkF9DaPWw'},\n",
      "            {'album_name': 'Drop '\n",
      "                           'the '\n",
      "                           'Game '\n",
      "                           '- '\n",
      "                           'EP',\n",
      "             'album_uri': 'spotify:album:5XHvSgcyEK3a99SwDyvppN',\n",
      "             'artist_name': 'Flume',\n",
      "             'artist_uri': 'spotify:artist:6nxWCVXbOlEVRexSbLsTer',\n",
      "             'duration_ms': 221080,\n",
      "             'pos': 11,\n",
      "             'track_name': 'Drop '\n",
      "                           'the '\n",
      "                           'Game',\n",
      "             'track_uri': 'spotify:track:2mk87j3RWPdzy0rWIoUP1o'},\n",
      "            {'album_name': 'Velour',\n",
      "             'album_uri': 'spotify:album:5c5RaaxUjA9V6lp2gxMB9o',\n",
      "             'artist_name': 'Darius',\n",
      "             'artist_uri': 'spotify:artist:5vfEaoOBcK0Lzr07WN8KaK',\n",
      "             'duration_ms': 242442,\n",
      "             'pos': 12,\n",
      "             'track_name': 'Road '\n",
      "                           'trip',\n",
      "             'track_uri': 'spotify:track:1kz2KSuMXfXxi7jdSxzjGo'},\n",
      "            {'album_name': 'My '\n",
      "                           'Boo '\n",
      "                           '(feat. '\n",
      "                           'Vince '\n",
      "                           'Staples, '\n",
      "                           'Kučka, '\n",
      "                           'Ngaiire '\n",
      "                           '& '\n",
      "                           'Vera '\n",
      "                           'Blue) '\n",
      "                           '[Triple '\n",
      "                           'J '\n",
      "                           'Like '\n",
      "                           'A '\n",
      "                           'Version]',\n",
      "             'album_uri': 'spotify:album:2IoiYGAOJpTk0QyTuIY6jR',\n",
      "             'artist_name': 'Flume',\n",
      "             'artist_uri': 'spotify:artist:6nxWCVXbOlEVRexSbLsTer',\n",
      "             'duration_ms': 231282,\n",
      "             'pos': 13,\n",
      "             'track_name': 'My '\n",
      "                           'Boo '\n",
      "                           '(feat. '\n",
      "                           'Vince '\n",
      "                           'Staples, '\n",
      "                           'Kučka, '\n",
      "                           'Ngaiire '\n",
      "                           '& '\n",
      "                           'Vera '\n",
      "                           'Blue) '\n",
      "                           '[Triple '\n",
      "                           'J '\n",
      "                           'Like '\n",
      "                           'A '\n",
      "                           'Version]',\n",
      "             'track_uri': 'spotify:track:4eC0UAMztwMLXAU4MV1mUF'},\n",
      "            {'album_name': 'Skin',\n",
      "             'album_uri': 'spotify:album:13bnswKVWc9bUcO352kGqF',\n",
      "             'artist_name': 'Flume',\n",
      "             'artist_uri': 'spotify:artist:6nxWCVXbOlEVRexSbLsTer',\n",
      "             'duration_ms': 284160,\n",
      "             'pos': 14,\n",
      "             'track_name': 'Never '\n",
      "                           'Be '\n",
      "                           'Like '\n",
      "                           'You '\n",
      "                           '- '\n",
      "                           'Martin '\n",
      "                           'Solveig '\n",
      "                           'Remix',\n",
      "             'track_uri': 'spotify:track:04TnA6CnOoZ49KMRfTAtHS'},\n",
      "            {'album_name': \"Writer's \"\n",
      "                           'Block',\n",
      "             'album_uri': 'spotify:album:5g4E06cxsFEMFE9hSekAt2',\n",
      "             'artist_name': 'Peter '\n",
      "                            'Bjorn '\n",
      "                            'and '\n",
      "                            'John',\n",
      "             'artist_uri': 'spotify:artist:6u11Qbko2N2hP4lTBYjX86',\n",
      "             'duration_ms': 276693,\n",
      "             'pos': 15,\n",
      "             'track_name': 'Young '\n",
      "                           'Folks',\n",
      "             'track_uri': 'spotify:track:4dyx5SzxPPaD8xQIid5Wjj'},\n",
      "            {'album_name': 'Wicked '\n",
      "                           'Games',\n",
      "             'album_uri': 'spotify:album:2VFTNZsNxQxk4CjEWB4PuG',\n",
      "             'artist_name': 'Parra '\n",
      "                            'for '\n",
      "                            'Cuva',\n",
      "             'artist_uri': 'spotify:artist:238y1dKPtMeFEpX3Y6H1Vr',\n",
      "             'duration_ms': 195213,\n",
      "             'pos': 16,\n",
      "             'track_name': 'Wicked '\n",
      "                           'Games',\n",
      "             'track_uri': 'spotify:track:1yoO94wPL8khknS04ltxkn'},\n",
      "            {'album_name': 'I '\n",
      "                           'Like '\n",
      "                           'Me '\n",
      "                           'Better',\n",
      "             'album_uri': 'spotify:album:7l6fTSFvlumnPFpOSrbnDV',\n",
      "             'artist_name': 'Lauv',\n",
      "             'artist_uri': 'spotify:artist:5JZ7CnR6gTvEMKX4g70Amv',\n",
      "             'duration_ms': 197436,\n",
      "             'pos': 17,\n",
      "             'track_name': 'I '\n",
      "                           'Like '\n",
      "                           'Me '\n",
      "                           'Better',\n",
      "             'track_uri': 'spotify:track:1wjzFQodRWrPcQ0AnYnvQ9'}]}\n"
     ]
    }
   ],
   "source": [
    "pp.pprint(data[1])"
   ]
  },
  {
   "cell_type": "code",
   "execution_count": 189,
   "id": "083ca448",
   "metadata": {},
   "outputs": [
    {
     "name": "stdout",
     "output_type": "stream",
     "text": [
      "Preprocessing started...\n"
     ]
    }
   ],
   "source": [
    "# Building relevant data structures\n",
    "tracks_per_user, users_per_track, users_per_artist = build_relevant_ds(data)"
   ]
  },
  {
   "cell_type": "markdown",
   "id": "6a83f098",
   "metadata": {},
   "source": [
    "# Exploratory Analysis"
   ]
  },
  {
   "cell_type": "code",
   "execution_count": 190,
   "id": "0503bc83",
   "metadata": {},
   "outputs": [
    {
     "name": "stdout",
     "output_type": "stream",
     "text": [
      "Total Users: 48000\n",
      "Unique Tracks: 329741\n"
     ]
    }
   ],
   "source": [
    "# Computing total users and tracks\n",
    "total_users, total_tracks = len(tracks_per_user), len(users_per_track)\n",
    "print(f\"Total Users: {total_users}\", f\"Unique Tracks: {total_tracks}\", sep = '\\n')"
   ]
  },
  {
   "cell_type": "code",
   "execution_count": 191,
   "id": "0add640b",
   "metadata": {},
   "outputs": [
    {
     "name": "stdout",
     "output_type": "stream",
     "text": [
      "Total User-Track Pairs: 3213553\n",
      "Average Tracks Per User: 66.95\n"
     ]
    }
   ],
   "source": [
    "# Total user-track pairs, average tracks per user\n",
    "tracks_nonunique = 0\n",
    "for user, entry in tracks_per_user.items():\n",
    "    tracks_nonunique += len(entry)\n",
    "    \n",
    "print(f\"Total User-Track Pairs: {tracks_nonunique}\", \"Average Tracks Per User: \" + \"%.2f\" % (tracks_nonunique/total_users), sep = '\\n')"
   ]
  },
  {
   "cell_type": "markdown",
   "id": "e6fd9006",
   "metadata": {},
   "source": [
    "**Meaning**: We have a LOT of data, because users make long playlists. \n",
    "\n",
    "We can easily split up into train, val test, and utilize a smaller portion of the data so that models train at a reasonable timeframe."
   ]
  },
  {
   "cell_type": "markdown",
   "id": "72260614",
   "metadata": {},
   "source": [
    "## Most Popular Songs, Artists"
   ]
  },
  {
   "cell_type": "code",
   "execution_count": 193,
   "id": "7076bc0e",
   "metadata": {},
   "outputs": [
    {
     "name": "stdout",
     "output_type": "stream",
     "text": [
      "\u001b[1mTop 30 songs, by number of listeners, in the dataset: \u001b[0m\n",
      "\n",
      "1. Closer, 3288 Playlists\n",
      "2. Home, 2439 Playlists\n",
      "3. Roses, 2149 Playlists\n",
      "4. HUMBLE., 2139 Playlists\n",
      "5. One Dance, 2049 Playlists\n",
      "6. Congratulations, 1931 Playlists\n",
      "7. Ride, 1906 Playlists\n",
      "8. Broccoli (feat. Lil Yachty), 1887 Playlists\n",
      "9. Let Me Love You, 1841 Playlists\n",
      "10. Caroline, 1791 Playlists\n",
      "11. T-Shirt, 1786 Playlists\n",
      "12. Gold, 1777 Playlists\n",
      "13. Forever, 1772 Playlists\n",
      "14. Stay, 1750 Playlists\n",
      "15. Sorry, 1678 Playlists\n",
      "16. Location, 1645 Playlists\n",
      "17. XO TOUR Llif3, 1639 Playlists\n",
      "18. Unforgettable, 1631 Playlists\n",
      "19. Bad and Boujee (feat. Lil Uzi Vert), 1600 Playlists\n",
      "20. iSpy (feat. Lil Yachty), 1599 Playlists\n",
      "21. Don't, 1587 Playlists\n",
      "22. Riptide, 1565 Playlists\n",
      "23. Slide, 1558 Playlists\n",
      "24. Hello, 1544 Playlists\n",
      "25. Mask Off, 1540 Playlists\n",
      "26. No Role Modelz, 1538 Playlists\n",
      "27. Down, 1516 Playlists\n",
      "28. Don't Let Me Down, 1516 Playlists\n",
      "29. Panda, 1512 Playlists\n",
      "30. Ignition - Remix, 1509 Playlists\n",
      "\n",
      "\n",
      "\u001b[1mTop 30 artists, by number of listeners, in the dataset: \u001b[0m\n",
      "\n",
      "1. Drake, 39327 Playlists\n",
      "2. Kanye West, 19733 Playlists\n",
      "3. Kendrick Lamar, 16272 Playlists\n",
      "4. Rihanna, 15827 Playlists\n",
      "5. The Weeknd, 14611 Playlists\n",
      "6. Eminem, 14363 Playlists\n",
      "7. Ed Sheeran, 13079 Playlists\n",
      "8. Future, 12147 Playlists\n",
      "9. J. Cole, 11554 Playlists\n",
      "10. Justin Bieber, 11305 Playlists\n",
      "11. Beyoncé, 11227 Playlists\n",
      "12. The Chainsmokers, 10953 Playlists\n",
      "13. Chris Brown, 10047 Playlists\n",
      "14. Luke Bryan, 10036 Playlists\n",
      "15. Twenty One Pilots, 9529 Playlists\n",
      "16. Calvin Harris, 9423 Playlists\n",
      "17. Lil Uzi Vert, 9420 Playlists\n",
      "18. Florida Georgia Line, 9074 Playlists\n",
      "19. Post Malone, 8991 Playlists\n",
      "20. Big Sean, 8986 Playlists\n",
      "21. Maroon 5, 8902 Playlists\n",
      "22. JAY Z, 8869 Playlists\n",
      "23. Coldplay, 8728 Playlists\n",
      "24. Migos, 8724 Playlists\n",
      "25. Lil Wayne, 8659 Playlists\n",
      "26. G-Eazy, 8391 Playlists\n",
      "27. Imagine Dragons, 8172 Playlists\n",
      "28. Rae Sremmurd, 7988 Playlists\n",
      "29. Bruno Mars, 7900 Playlists\n",
      "30. Zac Brown Band, 7805 Playlists\n"
     ]
    }
   ],
   "source": [
    "# Most Popular Tracks, Distribution of track popularity, based on a sample\n",
    "popularities = []\n",
    "\n",
    "# Computing number of listeners per track\n",
    "listeners_per_track = [(len(listeners), track) for track, listeners in users_per_track.items()]\n",
    "listeners_per_artist = [(len(listeners), artist) for artist, listeners in users_per_artist.items()]\n",
    "\n",
    "# Top 30 songs\n",
    "print(\"\\033[1m\" + \"Top 30 songs, by number of listeners, in the dataset: \" + \"\\033[0m\" + \"\\n\")\n",
    "sorted_listeners_per_track = sorted(listeners_per_track, reverse = True)\n",
    "counter = 1\n",
    "\n",
    "for listeners, track in sorted_listeners_per_track[:30]:\n",
    "    print(f\"{counter}. {track}, {listeners} Playlists\")\n",
    "    counter += 1\n",
    "    \n",
    "# Top 30 songs\n",
    "print(\"\\n\\n\" +  \"\\033[1m\" + \"Top 30 artists, by number of listeners, in the dataset: \" + \"\\033[0m\" +\"\\n\")\n",
    "sorted_listeners_per_artist = sorted(listeners_per_artist, reverse = True)\n",
    "counter = 1\n",
    "\n",
    "for listeners, artist in sorted_listeners_per_artist[:30]:\n",
    "    print(f\"{counter}. {artist}, {listeners} Playlists\")\n",
    "    counter += 1"
   ]
  },
  {
   "cell_type": "markdown",
   "id": "d77f1d02",
   "metadata": {},
   "source": [
    "## Listeners Per Track Distribution"
   ]
  },
  {
   "cell_type": "code",
   "execution_count": 194,
   "id": "7f3c8d3a",
   "metadata": {},
   "outputs": [],
   "source": [
    "listeners_only = [listeners for listeners, track in sorted_listeners_per_track]"
   ]
  },
  {
   "cell_type": "code",
   "execution_count": 195,
   "id": "98280fa2",
   "metadata": {},
   "outputs": [
    {
     "name": "stdout",
     "output_type": "stream",
     "text": [
      "Average Listeners Per Track:  9.75 \n",
      "Median Listeners Per Track:    1 \n",
      "Deviation:  50.99\n"
     ]
    }
   ],
   "source": [
    "print(f\"Average Listeners Per Track: {np.mean(listeners_only): 4.2f} \\nMedian Listeners Per Track: {np.median(listeners_only): 4.0f} \\nDeviation: {np.std(listeners_only): 4.2f}\")\n"
   ]
  },
  {
   "cell_type": "markdown",
   "id": "c680e966",
   "metadata": {},
   "source": [
    "**Note**: Our distribution is heavily skewed to the right. \n",
    "\n",
    "Our median song has a single listener, and yet our standard deviation is massive and the average number of songs per track is significantly above the median. \n",
    "\n",
    "It seems most songs have only one listener, and a few songs have thousands. This could present a cold start issue, as well as cause problems with only the most popular songs being recommended. \n",
    "\n",
    "We'll have to find a weighting scheme so that the more popular songs don't simply dominate.\n",
    "\n",
    "**Further evidence of this can be seen below:**"
   ]
  },
  {
   "cell_type": "code",
   "execution_count": 196,
   "id": "9fa58234",
   "metadata": {},
   "outputs": [
    {
     "data": {
      "image/png": "[encoded data removed]",
      "text/plain": [
       "<Figure size 432x288 with 1 Axes>"
      ]
     },
     "metadata": {
      "needs_background": "light"
     },
     "output_type": "display_data"
    }
   ],
   "source": [
    "plt.hist(listeners_only, bins = [0] + [5 * (2**i) for i in range(1,10)])\n",
    "plt.show()"
   ]
  },
  {
   "cell_type": "markdown",
   "id": "3d5a313e",
   "metadata": {},
   "source": [
    "Let's zoom in!"
   ]
  },
  {
   "cell_type": "code",
   "execution_count": 197,
   "id": "0e70940d",
   "metadata": {},
   "outputs": [
    {
     "data": {
      "image/png": "[encoded data removed]",
      "text/plain": [
       "<Figure size 432x288 with 1 Axes>"
      ]
     },
     "metadata": {
      "needs_background": "light"
     },
     "output_type": "display_data"
    }
   ],
   "source": [
    "plt.hist(listeners_only, bins = [i for i in range(10)])\n",
    "plt.show()"
   ]
  },
  {
   "cell_type": "markdown",
   "id": "5dc854de",
   "metadata": {},
   "source": [
    "It is now clear that the vast majority of our songs have only a single listener. In fact, approximately 175k of our roughly 330k unique tracks have only a single listener. Fortunately, we have enough data to not utilize these rare tracks for which there is only a single entry if not necessary.\n",
    "\n",
    "#### Something must be done about the rare song issue, however. Let's check how many of our songs \"Aren't rare\""
   ]
  },
  {
   "cell_type": "code",
   "execution_count": 198,
   "id": "5ff25a28",
   "metadata": {},
   "outputs": [],
   "source": [
    "non_obscure_song_listens = list(filter(lambda x: x >= 5, listeners_only))\n"
   ]
  },
  {
   "cell_type": "code",
   "execution_count": 199,
   "id": "9a65eb15",
   "metadata": {},
   "outputs": [
    {
     "name": "stdout",
     "output_type": "stream",
     "text": [
      "Number of user-song pairs for non-obscure songs: 2817659\n",
      "Number of unique non-obscure songs: 68590\n"
     ]
    }
   ],
   "source": [
    "non_obscure_song_entries, non_obscure_song_num = sum(non_obscure_song_listens), len(non_obscure_song_listens)\n",
    "print(f\"Number of user-song pairs for non-obscure songs: {non_obscure_song_entries}\", \n",
    "      f\"Number of unique non-obscure songs: {non_obscure_song_num}\", sep = '\\n')"
   ]
  },
  {
   "cell_type": "markdown",
   "id": "e2b4f92d",
   "metadata": {},
   "source": [
    "As can be seen, we have a sufficient non-obscure songs to cast out obscure ones and train a model considering only reasonably \"popular music\". This would fundamentally assume people do not want to be recommended not completely obscure songs, which is an assumption that needs to be considered"
   ]
  },
  {
   "cell_type": "markdown",
   "id": "4371bfca",
   "metadata": {},
   "source": [
    "## Are Playlist Length Distributions Similarly Skewed?"
   ]
  },
  {
   "cell_type": "code",
   "execution_count": 200,
   "id": "55171a27",
   "metadata": {},
   "outputs": [
    {
     "name": "stdout",
     "output_type": "stream",
     "text": [
      "Longest Playlist Length:  250.00\n",
      "Mean Playlist Length:  66.95\n",
      "Median Playlist Length  50.00\n"
     ]
    }
   ],
   "source": [
    "track_num_per_user = [len(tracks) for (user, tracks) in tracks_per_user.items()]\n",
    "sorted_track_num_per_user = sorted(track_num_per_user, reverse=True)\n",
    "print(f\"Longest Playlist Length: {max(sorted_track_num_per_user): 4.2f}\",\n",
    "      f\"Mean Playlist Length: {np.mean(sorted_track_num_per_user): 4.2f}\",\n",
    "      f\"Median Playlist Length {np.median(sorted_track_num_per_user): 4.2f}\", sep = '\\n')"
   ]
  },
  {
   "cell_type": "code",
   "execution_count": 201,
   "id": "83f8a9ec",
   "metadata": {},
   "outputs": [
    {
     "data": {
      "image/png": "[encoded data removed]",
      "text/plain": [
       "<Figure size 432x288 with 1 Axes>"
      ]
     },
     "metadata": {
      "needs_background": "light"
     },
     "output_type": "display_data"
    }
   ],
   "source": [
    "plt.hist(sorted_track_num_per_user)\n",
    "plt.show()"
   ]
  },
  {
   "cell_type": "markdown",
   "id": "fa6703e2",
   "metadata": {},
   "source": [
    "Let's Zoom in Again!"
   ]
  },
  {
   "cell_type": "code",
   "execution_count": 202,
   "id": "3230bef8",
   "metadata": {},
   "outputs": [
    {
     "data": {
      "image/png": "[encoded data removed]",
      "text/plain": [
       "<Figure size 432x288 with 1 Axes>"
      ]
     },
     "metadata": {
      "needs_background": "light"
     },
     "output_type": "display_data"
    }
   ],
   "source": [
    "plt.hist(sorted_track_num_per_user, bins = [i*3 for i in range(1,20)])\n",
    "plt.show()"
   ]
  },
  {
   "cell_type": "markdown",
   "id": "0c6e8e06",
   "metadata": {},
   "source": [
    "Our data per user is also skewed to the right, but it is significantly less skewed than our song data and might be acceptable. It is likely that Spotify cast out playlists longer than 250 songs in the making of this dataset."
   ]
  },
  {
   "cell_type": "markdown",
   "id": "7c7f68f6",
   "metadata": {},
   "source": [
    "## A Quick Nullity Check"
   ]
  },
  {
   "cell_type": "markdown",
   "id": "63098586",
   "metadata": {},
   "source": [
    "Let's Perform a quick check to ensure none of our artists or tracks are null!"
   ]
  },
  {
   "cell_type": "code",
   "execution_count": 203,
   "id": "82ed3357",
   "metadata": {},
   "outputs": [
    {
     "data": {
      "text/plain": [
       "(False, False)"
      ]
     },
     "execution_count": 203,
     "metadata": {},
     "output_type": "execute_result"
    }
   ],
   "source": [
    "# Ensuring we have no null users or tracks\n",
    "None in tracks_per_user or np.nan in tracks_per_user, None in users_per_track or np.nan in users_per_track"
   ]
  },
  {
   "cell_type": "markdown",
   "id": "b9e77f6f",
   "metadata": {},
   "source": [
    "## Correlational Investigation, Playlist Statistics"
   ]
  },
  {
   "cell_type": "markdown",
   "id": "dd94ee74",
   "metadata": {},
   "source": [
    "Playlist Metadata may be a powerful modeling tool - let's check if there are any factors that correlate with popularity, or number of followers!"
   ]
  },
  {
   "cell_type": "code",
   "execution_count": 204,
   "id": "fa025af2",
   "metadata": {},
   "outputs": [],
   "source": [
    "# Data storage\n",
    "playlist_pop, playlist_durations, playlist_last_mod = [], [], []\n",
    "playlist_edits, playlist_artist_num, playlist_track_num = [], [], []\n",
    "\n",
    "\n",
    "# Computing various statistics\n",
    "for playlist in data:\n",
    "    \n",
    "    # Obtaining relevant data\n",
    "    num_followers, duration_ms, modified = playlist['num_followers'], playlist['duration_ms'], playlist['modified_at']\n",
    "    num_edits, num_artists, num_tracks = playlist['num_edits'], playlist['num_artists'], playlist['num_tracks']\n",
    "    \n",
    "    \n",
    "    # Inserting data\n",
    "    playlist_pop.append(num_followers)\n",
    "    playlist_durations.append(duration_ms)\n",
    "    playlist_last_mod.append(modified)\n",
    "    playlist_edits.append(num_edits)\n",
    "    playlist_artist_num.append(num_artists)\n",
    "    playlist_track_num.append(num_tracks)"
   ]
  },
  {
   "cell_type": "code",
   "execution_count": 205,
   "id": "c2051ad2",
   "metadata": {},
   "outputs": [],
   "source": [
    "popularities_sorted = sorted(playlist_pop, reverse = True)"
   ]
  },
  {
   "cell_type": "code",
   "execution_count": 206,
   "id": "bd688945",
   "metadata": {},
   "outputs": [
    {
     "name": "stdout",
     "output_type": "stream",
     "text": [
      "Number of followers for five most popular playlists, ranked: \n",
      "\n",
      "[15842, 14812, 6568, 2994, 2699]\n"
     ]
    }
   ],
   "source": [
    "# Number of followers for 5 most popular playlists\n",
    "print(\"Number of followers for five most popular playlists, ranked: \\n\")\n",
    "print(popularities_sorted[0:5])"
   ]
  },
  {
   "cell_type": "code",
   "execution_count": 207,
   "id": "3c770a4b",
   "metadata": {},
   "outputs": [],
   "source": [
    "df = pd.DataFrame().assign(num_followers = playlist_pop, duration_ms = playlist_durations, \n",
    "                          last_modified = playlist_last_mod, num_edits = playlist_edits,\n",
    "                          num_artists = playlist_artist_num, num_tracks = playlist_track_num)"
   ]
  },
  {
   "cell_type": "code",
   "execution_count": 208,
   "id": "49ed488c",
   "metadata": {},
   "outputs": [
    {
     "data": {
      "text/html": [
       "<div>\n",
       "<style scoped>\n",
       "    .dataframe tbody tr th:only-of-type {\n",
       "        vertical-align: middle;\n",
       "    }\n",
       "\n",
       "    .dataframe tbody tr th {\n",
       "        vertical-align: top;\n",
       "    }\n",
       "\n",
       "    .dataframe thead th {\n",
       "        text-align: right;\n",
       "    }\n",
       "</style>\n",
       "<table border=\"1\" class=\"dataframe\">\n",
       "  <thead>\n",
       "    <tr style=\"text-align: right;\">\n",
       "      <th></th>\n",
       "      <th>num_followers</th>\n",
       "      <th>duration_ms</th>\n",
       "      <th>last_modified</th>\n",
       "      <th>num_edits</th>\n",
       "      <th>num_artists</th>\n",
       "      <th>num_tracks</th>\n",
       "    </tr>\n",
       "  </thead>\n",
       "  <tbody>\n",
       "    <tr>\n",
       "      <th>num_followers</th>\n",
       "      <td>1.000000</td>\n",
       "      <td>0.003919</td>\n",
       "      <td>0.001880</td>\n",
       "      <td>-0.001402</td>\n",
       "      <td>-0.000225</td>\n",
       "      <td>0.004287</td>\n",
       "    </tr>\n",
       "    <tr>\n",
       "      <th>duration_ms</th>\n",
       "      <td>0.003919</td>\n",
       "      <td>1.000000</td>\n",
       "      <td>0.129771</td>\n",
       "      <td>0.600615</td>\n",
       "      <td>0.801590</td>\n",
       "      <td>0.982612</td>\n",
       "    </tr>\n",
       "    <tr>\n",
       "      <th>last_modified</th>\n",
       "      <td>0.001880</td>\n",
       "      <td>0.129771</td>\n",
       "      <td>1.000000</td>\n",
       "      <td>0.237746</td>\n",
       "      <td>0.191590</td>\n",
       "      <td>0.144376</td>\n",
       "    </tr>\n",
       "    <tr>\n",
       "      <th>num_edits</th>\n",
       "      <td>-0.001402</td>\n",
       "      <td>0.600615</td>\n",
       "      <td>0.237746</td>\n",
       "      <td>1.000000</td>\n",
       "      <td>0.664942</td>\n",
       "      <td>0.606175</td>\n",
       "    </tr>\n",
       "    <tr>\n",
       "      <th>num_artists</th>\n",
       "      <td>-0.000225</td>\n",
       "      <td>0.801590</td>\n",
       "      <td>0.191590</td>\n",
       "      <td>0.664942</td>\n",
       "      <td>1.000000</td>\n",
       "      <td>0.818473</td>\n",
       "    </tr>\n",
       "    <tr>\n",
       "      <th>num_tracks</th>\n",
       "      <td>0.004287</td>\n",
       "      <td>0.982612</td>\n",
       "      <td>0.144376</td>\n",
       "      <td>0.606175</td>\n",
       "      <td>0.818473</td>\n",
       "      <td>1.000000</td>\n",
       "    </tr>\n",
       "  </tbody>\n",
       "</table>\n",
       "</div>"
      ],
      "text/plain": [
       "               num_followers  duration_ms  last_modified  num_edits  \\\n",
       "num_followers       1.000000     0.003919       0.001880  -0.001402   \n",
       "duration_ms         0.003919     1.000000       0.129771   0.600615   \n",
       "last_modified       0.001880     0.129771       1.000000   0.237746   \n",
       "num_edits          -0.001402     0.600615       0.237746   1.000000   \n",
       "num_artists        -0.000225     0.801590       0.191590   0.664942   \n",
       "num_tracks          0.004287     0.982612       0.144376   0.606175   \n",
       "\n",
       "               num_artists  num_tracks  \n",
       "num_followers    -0.000225    0.004287  \n",
       "duration_ms       0.801590    0.982612  \n",
       "last_modified     0.191590    0.144376  \n",
       "num_edits         0.664942    0.606175  \n",
       "num_artists       1.000000    0.818473  \n",
       "num_tracks        0.818473    1.000000  "
      ]
     },
     "execution_count": 208,
     "metadata": {},
     "output_type": "execute_result"
    }
   ],
   "source": [
    "# Checking for correlations\n",
    "df.corr()"
   ]
  },
  {
   "cell_type": "markdown",
   "id": "ef513198",
   "metadata": {},
   "source": [
    "There don't seem to be many interesting correlations, beyond the fact that longer playlists tend to be edited more and modified more recently. \n",
    "\n",
    "It is also possible that there may be a nonlinear association within the data that we haven't captured with pearson correlation. "
   ]
  },
  {
   "cell_type": "markdown",
   "id": "e544eca3",
   "metadata": {},
   "source": [
    "**For Better visualization of the correlation, A Heatmap**"
   ]
  },
  {
   "cell_type": "code",
   "execution_count": 209,
   "id": "5f646140",
   "metadata": {},
   "outputs": [
    {
     "data": {
      "text/plain": [
       "<AxesSubplot:>"
      ]
     },
     "execution_count": 209,
     "metadata": {},
     "output_type": "execute_result"
    },
    {
     "data": {
      "image/png": "[encoded data removed]",
      "text/plain": [
       "<Figure size 432x288 with 2 Axes>"
      ]
     },
     "metadata": {
      "needs_background": "light"
     },
     "output_type": "display_data"
    }
   ],
   "source": [
    "# Correlational heatmap, showing strong correlation\n",
    "sns.heatmap(df.corr(), cmap = sns.color_palette(\"rocket\", as_cmap = True))"
   ]
  },
  {
   "cell_type": "markdown",
   "id": "90b4ff41",
   "metadata": {},
   "source": [
    "## Do the most Popular Songs Appear more often on the Most Popular Playlists?"
   ]
  },
  {
   "cell_type": "code",
   "execution_count": 210,
   "id": "d5afb46d",
   "metadata": {},
   "outputs": [],
   "source": [
    "tracks_per_playlist = defaultdict(list)\n",
    "\n",
    "# Appending tracks for every playlist, muting output\n",
    "mute = [tracks_per_playlist[playlist['pid']].append(track['track_name']) for playlist in data for track in playlist['tracks']]\n",
    "        "
   ]
  },
  {
   "cell_type": "code",
   "execution_count": 211,
   "id": "c35377fe",
   "metadata": {},
   "outputs": [],
   "source": [
    "num_most_popular = []\n",
    "most_popular_songs = sorted_listeners_per_track[:50]\n",
    "\n",
    "for playlist in data:\n",
    "    # Checking number of most popular tracks in each playlist, with most popular being in top 50\n",
    "    song_inclusion  = [song[1] in tracks_per_playlist[playlist['pid']] for song in most_popular_songs]\n",
    "    num_most_popular.append(sum(song_inclusion))\n",
    "    "
   ]
  },
  {
   "cell_type": "code",
   "execution_count": 212,
   "id": "196ec844",
   "metadata": {},
   "outputs": [
    {
     "data": {
      "text/plain": [
       "num_followers             1.000000\n",
       "duration_ms               0.003919\n",
       "last_modified             0.001880\n",
       "num_edits                -0.001402\n",
       "num_artists              -0.000225\n",
       "num_tracks                0.004287\n",
       "num_most_popular_songs    0.000541\n",
       "Name: num_followers, dtype: float64"
      ]
     },
     "execution_count": 212,
     "metadata": {},
     "output_type": "execute_result"
    }
   ],
   "source": [
    "# Checking correlations\n",
    "df['num_most_popular_songs'] = num_most_popular\n",
    "df.corr()['num_followers']"
   ]
  },
  {
   "cell_type": "markdown",
   "id": "74903a7f",
   "metadata": {},
   "source": [
    "#### The Answer, unfortunately, is that the correlation here is slim. Hence it is likely that playlist popularity is not a particularly good predictor of song popularity."
   ]
  },
  {
   "cell_type": "markdown",
   "id": "96c436ca",
   "metadata": {},
   "source": [
    "## Do the most Popular Artists Appear more often on the Most Popular Playlists?"
   ]
  },
  {
   "cell_type": "code",
   "execution_count": 213,
   "id": "9befa425",
   "metadata": {},
   "outputs": [],
   "source": [
    "artists_per_playlist = defaultdict(list)\n",
    "\n",
    "# Appending tracks for every playlist, muting output\n",
    "mute = [artists_per_playlist[playlist['pid']].append(track['artist_name']) for playlist in data for track in playlist['tracks']]"
   ]
  },
  {
   "cell_type": "code",
   "execution_count": 214,
   "id": "1d54741b",
   "metadata": {},
   "outputs": [],
   "source": [
    "num_most_popular = []\n",
    "most_popular_artists = sorted_listeners_per_artist[:50]\n",
    "\n",
    "for playlist in data:\n",
    "    # Checking number of most popular tracks in each playlist, with most popular being in top 50\n",
    "    artist_inclusion  = [artist[1] in artists_per_playlist[playlist['pid']] for artist in most_popular_artists]\n",
    "    num_most_popular.append(sum(artist_inclusion))"
   ]
  },
  {
   "cell_type": "code",
   "execution_count": 215,
   "id": "f9c496c8",
   "metadata": {},
   "outputs": [
    {
     "data": {
      "text/plain": [
       "num_followers               1.000000\n",
       "duration_ms                 0.003919\n",
       "last_modified               0.001880\n",
       "num_edits                  -0.001402\n",
       "num_artists                -0.000225\n",
       "num_tracks                  0.004287\n",
       "num_most_popular_songs      0.000541\n",
       "num_most_popular_artists   -0.002762\n",
       "Name: num_followers, dtype: float64"
      ]
     },
     "execution_count": 215,
     "metadata": {},
     "output_type": "execute_result"
    }
   ],
   "source": [
    "# Checking correlations\n",
    "df['num_most_popular_artists'] = num_most_popular\n",
    "df.corr()['num_followers']"
   ]
  },
  {
   "cell_type": "markdown",
   "id": "a3b1b495",
   "metadata": {},
   "source": [
    "Interestingly, having more popular artists correlates to having less followers! \n",
    "\n",
    "This and the above example shows a fundamental difference between songs and playlists. \n",
    "\n",
    "People may follow playlists to hear something new, and not cliche. \n",
    "\n",
    "They probably hear the most popular songs as is through some other means. Hence Playlist Popularity is somewhat anti-correlated with *'being cliche'*, and hence not particularly relevant for song popularity "
   ]
  },
  {
   "cell_type": "markdown",
   "id": "539cc74f",
   "metadata": {},
   "source": [
    "### This marks the current end of EDA"
   ]
  }
 ],
 "metadata": {
  "kernelspec": {
   "display_name": "Python 3 (ipykernel)",
   "language": "python",
   "name": "python3"
  },
  "language_info": {
   "codemirror_mode": {
    "name": "ipython",
    "version": 3
   },
   "file_extension": ".py",
   "mimetype": "text/x-python",
   "name": "python",
   "nbconvert_exporter": "python",
   "pygments_lexer": "ipython3",
   "version": "3.10.6"
  }
 },
 "nbformat": 4,
 "nbformat_minor": 5
}
