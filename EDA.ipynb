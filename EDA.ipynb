{
 "cells": [
  {
   "cell_type": "code",
   "execution_count": 1,
   "id": "d017548f",
   "metadata": {},
   "outputs": [],
   "source": [
    "import pandas as pd\n",
    "import os\n",
    "import json\n",
    "import re\n",
    "from tqdm import tqdm\n",
    "import logging"
   ]
  },
  {
   "cell_type": "markdown",
   "id": "079a7b72",
   "metadata": {},
   "source": [
    "## Steps to reproduction\n",
    "1. Download all 5 GB of data\n",
    "2. Keep only first 100,000 playlists\n",
    "3. Place these in a directory called data, one step below current root\n",
    "4. Run this notebook from current root"
   ]
  },
  {
   "cell_type": "code",
   "execution_count": 2,
   "id": "bb07b4cb",
   "metadata": {},
   "outputs": [],
   "source": [
    "# Listing directory\n",
    "files = os.listdir(\"./data\")\n",
    "\n",
    "# Regular expression for desired filenames\n",
    "desired_filename = re.compile(\"mpd.*\")"
   ]
  },
  {
   "cell_type": "code",
   "execution_count": 3,
   "id": "fd081c4e",
   "metadata": {},
   "outputs": [],
   "source": [
    "def dataloader_pipeline(file_list: list) -> list:\n",
    "    # Resulting data (hopefully to be stored in list)\n",
    "    data = []\n",
    "    \n",
    "    # Traversing through available datafiles\n",
    "    print(\"Starting Dataloading...\")\n",
    "    for file in tqdm(file_list):\n",
    "        \n",
    "        # Ensuring filename valid\n",
    "        if desired_filename.match(file):\n",
    "            \n",
    "            # Opening and preprocessing\n",
    "            with open(\"./data/\" + file, 'r') as file_reader:\n",
    "                data.append(json.load(file_reader)[\"playlists\"])\n",
    "    \n",
    "    print(\"Finished Dataloading...\")\n",
    "   \n",
    "    return data"
   ]
  },
  {
   "cell_type": "code",
   "execution_count": 4,
   "id": "ec6f8f18",
   "metadata": {},
   "outputs": [
    {
     "name": "stdout",
     "output_type": "stream",
     "text": [
      "Starting Dataloading\n"
     ]
    },
    {
     "name": "stderr",
     "output_type": "stream",
     "text": [
      "100%|█████████████████████████████████████████| 101/101 [00:41<00:00,  2.42it/s]"
     ]
    },
    {
     "name": "stdout",
     "output_type": "stream",
     "text": [
      "Finished Dataloading\n"
     ]
    },
    {
     "name": "stderr",
     "output_type": "stream",
     "text": [
      "\n"
     ]
    }
   ],
   "source": [
    "data = dataloader_pipeline(files)"
   ]
  },
  {
   "cell_type": "code",
   "execution_count": 16,
   "id": "19b7a4a0",
   "metadata": {},
   "outputs": [
    {
     "name": "stdout",
     "output_type": "stream",
     "text": [
      "11\n"
     ]
    }
   ],
   "source": [
    "print(len(data[0][0]))"
   ]
  },
  {
   "cell_type": "code",
   "execution_count": null,
   "id": "54804665",
   "metadata": {},
   "outputs": [],
   "source": []
  }
 ],
 "metadata": {
  "kernelspec": {
   "display_name": "Python 3 (ipykernel)",
   "language": "python",
   "name": "python3"
  },
  "language_info": {
   "codemirror_mode": {
    "name": "ipython",
    "version": 3
   },
   "file_extension": ".py",
   "mimetype": "text/x-python",
   "name": "python",
   "nbconvert_exporter": "python",
   "pygments_lexer": "ipython3",
   "version": "3.8.9"
  }
 },
 "nbformat": 4,
 "nbformat_minor": 5
}
